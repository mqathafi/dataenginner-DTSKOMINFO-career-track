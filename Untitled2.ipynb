{
  "nbformat": 4,
  "nbformat_minor": 0,
  "metadata": {
    "colab": {
      "name": "Untitled2.ipynb",
      "provenance": [],
      "collapsed_sections": [],
      "authorship_tag": "ABX9TyM1rzRuwpJc0LOUL9GadazB",
      "include_colab_link": true
    },
    "kernelspec": {
      "name": "python3",
      "display_name": "Python 3"
    },
    "language_info": {
      "name": "python"
    }
  },
  "cells": [
    {
      "cell_type": "markdown",
      "metadata": {
        "id": "view-in-github",
        "colab_type": "text"
      },
      "source": [
        "<a href=\"https://colab.research.google.com/github/mursyiedqathafi/dataenginner-DTSKOMINFO-career-track/blob/circleci-project-setup/Untitled2.ipynb\" target=\"_parent\"><img src=\"https://colab.research.google.com/assets/colab-badge.svg\" alt=\"Open In Colab\"/></a>"
      ]
    },
    {
      "cell_type": "code",
      "execution_count": null,
      "metadata": {
        "colab": {
          "base_uri": "https://localhost:8080/"
        },
        "id": "L53Tn8qUGVqH",
        "outputId": "cdc6a730-0962-44bd-ec4c-b4064106e275"
      },
      "outputs": [
        {
          "output_type": "stream",
          "name": "stdout",
          "text": [
            "PENGECEKAN DATA\n",
            "\n",
            "\n",
            "   order_id order_date  customer_id       city     province product_id  \\\n",
            "0   1612885   01-01-19        16293     Malang   Jawa Timur      P1301   \n",
            "1   1612387   01-01-19        17228      Bogor   Jawa Barat      P2086   \n",
            "2   1612903   01-01-19        16775  Surakarta  Jawa Tengah      P1656   \n",
            "3   1612963   01-01-19            0    unknown      unknown      P3127   \n",
            "4   1612915   01-01-19            0    unknown      unknown      P1230   \n",
            "\n",
            "     brand  quantity  item_price  total_price  \n",
            "0  BRAND_F         6      747000      4482000  \n",
            "1  BRAND_L         4      590000      2360000  \n",
            "2  BRAND_G         3     1325000      3975000  \n",
            "3  BRAND_S         1     1045000      1045000  \n",
            "4  BRAND_E         1     -891000       891000  \n",
            "Kolom retail_data1: Index(['order_id', 'order_date', 'customer_id', 'city', 'province',\n",
            "       'product_id', 'brand', 'quantity', 'item_price', 'total_price'],\n",
            "      dtype='object')\n",
            "Kolom retail_data2: Index(['order_id', 'order_date', 'customer_id', 'city', 'province',\n",
            "       'product_id', 'brand', 'quantity', 'item_price', 'total_price'],\n",
            "      dtype='object')\n",
            "Kolom retail_data3: Index(['order_id', 'order_date', 'customer_id', 'city', 'province',\n",
            "       'product_id', 'brand', 'quantity', 'item_price', 'total_price'],\n",
            "      dtype='object')\n",
            "Kolom retail_data4: Index(['order_id', 'order_date', 'customer_id', 'city', 'province',\n",
            "       'product_id', 'brand', 'quantity', 'item_price', 'total_price'],\n",
            "      dtype='object')\n",
            "\n",
            "Jumlah baris: 50856\n",
            "\n",
            "Info:\n",
            "<class 'pandas.core.frame.DataFrame'>\n",
            "Int64Index: 50856 entries, 0 to 20182\n",
            "Data columns (total 10 columns):\n",
            " #   Column       Non-Null Count  Dtype \n",
            "---  ------       --------------  ----- \n",
            " 0   order_id     50856 non-null  object\n",
            " 1   order_date   50856 non-null  object\n",
            " 2   customer_id  50856 non-null  int64 \n",
            " 3   city         50856 non-null  object\n",
            " 4   province     50856 non-null  object\n",
            " 5   product_id   50856 non-null  object\n",
            " 6   brand        50856 non-null  object\n",
            " 7   quantity     50856 non-null  int64 \n",
            " 8   item_price   50856 non-null  int64 \n",
            " 9   total_price  50856 non-null  int64 \n",
            "dtypes: int64(4), object(6)\n",
            "memory usage: 4.3+ MB\n",
            "None\n",
            "\n",
            "Statistik deskriptif:\n",
            "         customer_id      quantity    item_price   total_price\n",
            "count  50856.000000  50856.000000  5.085600e+04  5.085600e+04\n",
            "mean   11516.434993     10.504680  1.345225e+06  7.020933e+06\n",
            "std     6762.130438     41.966574  7.306866e+06  2.689227e+07\n",
            "min        0.000000      1.000000 -8.910000e+05 -8.910000e+05\n",
            "25%    12370.000000      1.000000  4.500000e+05  1.356000e+06\n",
            "50%    14378.000000      4.000000  7.400000e+05  3.536000e+06\n",
            "75%    16284.000000     11.000000  1.458000e+06  6.270000e+06\n",
            "max    18287.000000   3114.000000  7.399120e+08  2.326158e+09\n"
          ]
        }
      ],
      "source": [
        "import pandas as pd\n",
        "import matplotlib.pyplot as plt\n",
        "retail_data1 = pd.read_csv('https://storage.googleapis.com/dqlab-dataset/10%25_original_randomstate%3D42/retail_data_from_1_until_3_reduce.csv')\n",
        "retail_data2 = pd.read_csv('https://storage.googleapis.com/dqlab-dataset/10%25_original_randomstate%3D42/retail_data_from_4_until_6_reduce.csv')\n",
        "retail_data3 = pd.read_csv('https://storage.googleapis.com/dqlab-dataset/10%25_original_randomstate%3D42/retail_data_from_7_until_9_reduce.csv')\n",
        "retail_data4 = pd.read_csv('https://storage.googleapis.com/dqlab-dataset/10%25_original_randomstate%3D42/retail_data_from_10_until_12_reduce.csv')\n",
        "\n",
        "# [2]. Pengecekan Data\n",
        "print('PENGECEKAN DATA\\n\\n')\n",
        "#      Cek data sekilas (tampilkan 5 baris teratas)\n",
        "print(retail_data1.head())\n",
        "#      Cek list kolom untuk semua dataframe\n",
        "print('Kolom retail_data1: %s' %retail_data1.columns)\n",
        "print('Kolom retail_data2: %s' %retail_data2.columns)\n",
        "print('Kolom retail_data3: %s' %retail_data3.columns)\n",
        "print('Kolom retail_data4: %s' %retail_data4.columns)\n",
        "#      Concat multiple dataframe menjadi 1 dataframe\n",
        "retail_table = pd.concat([retail_data1,retail_data2, retail_data3, retail_data4])\n",
        "print('\\nJumlah baris:', retail_table.shape[0])\n",
        "#      Pengecekan dataframe info\n",
        "print('\\nInfo:')\n",
        "print(retail_table.info())\n",
        "#      Pengecekan statistik deskriptif\n",
        "print('\\nStatistik deskriptif:\\n', retail_table.describe())"
      ]
    },
    {
      "cell_type": "markdown",
      "source": [
        "Append"
      ],
      "metadata": {
        "id": "fXwgHNyMNCf7"
      }
    }
  ]
}